{
 "cells": [
  {
   "cell_type": "code",
   "execution_count": null,
   "metadata": {},
   "outputs": [],
   "source": [
    "# import\n",
    "import pandas as pd\n",
    "import numpy as np\n",
    "\n",
    "\n",
    "LOR_PART_ONE_TITLE = 'the fellowship of the ring (the lord of the rings, part 1)'\n",
    "\n",
    "\n",
    "# load ratings\n",
    "ratings = pd.read_csv('BX-Book-Ratings.csv', encoding='cp1251', sep=';')\n",
    "ratings = ratings[ratings['Book-Rating']!=0]\n",
    "\n",
    "# load books\n",
    "books = pd.read_csv('BX-Books.csv', encoding='cp1251', sep=';', error_bad_lines=False)\n",
    "\n",
    "# TOMAS - I would select only relevant columns per each dataframe before joining them.\n",
    "#         We could reduce the memory usage as well as speed up future operations.\n",
    "\n",
    "#users_ratigs = pd.merge(ratings, users, on=['User-ID'])\n",
    "dataset = pd.merge(ratings, books, on=['ISBN'])\n",
    "\n",
    "# TOMAS - At this point I would suggest re-typing the columns where needed. E.g. for string type we could use \"StringDtype\".\n",
    "dataset_lowercase = dataset.apply(lambda x: x.str.lower() if (x.dtype == 'object') else x)\n",
    "\n",
    "tolkien_readers = dataset_lowercase['User-ID'][(dataset_lowercase['Book-Title']==LOR_PART_ONE_TITLE) & (dataset_lowercase['Book-Author'].str.contains(\"tolkien\"))]\n",
    "tolkien_readers = tolkien_readers.unique()\n",
    "\n",
    "# final dataset\n",
    "books_of_tolkien_readers = dataset_lowercase[(dataset_lowercase['User-ID'].isin(tolkien_readers))]\n",
    "\n",
    "# Number of ratings per other books in dataset\n",
    "number_of_rating_per_book = books_of_tolkien_readers.groupby(['Book-Title']).agg('count').reset_index()\n",
    "\n",
    "# select only books which have actually higher number of ratings than threshold\n",
    "books_to_compare = number_of_rating_per_book['Book-Title'][number_of_rating_per_book['User-ID'] >= 8]\n",
    "books_to_compare = books_to_compare.tolist()\n",
    "\n",
    "ratings_data_raw = books_of_tolkien_readers[['User-ID', 'Book-Rating', 'Book-Title']][books_of_tolkien_readers['Book-Title'].isin(books_to_compare)]\n",
    "\n",
    "# group by User and Book and compute mean\n",
    "ratings_data_raw_nodup = ratings_data_raw.groupby(['User-ID', 'Book-Title'])['Book-Rating'].mean()\n",
    "\n",
    "# reset index to see User-ID in every row\n",
    "ratings_data_raw_nodup = ratings_data_raw_nodup.to_frame().reset_index()\n",
    "\n",
    "dataset_for_corr = ratings_data_raw_nodup.pivot(index='User-ID', columns='Book-Title', values='Book-Rating')\n"
   ]
  },
  {
   "cell_type": "code",
   "execution_count": 24,
   "metadata": {},
   "outputs": [
    {
     "name": "stdout",
     "output_type": "stream",
     "text": [
      "Correlation for book: the fellowship of the ring (the lord of the rings, part 1)\n",
      "Average rating of LOR:                                                           User-ID  Book-Rating\n",
      "Book-Title                                                                    \n",
      "the fellowship of the ring (the lord of the rin...  143720.521951     8.882927\n"
     ]
    }
   ],
   "source": [
    "LoR_list = [LOR_PART_ONE_TITLE]\n",
    "\n",
    "result_list = []\n",
    "worst_list = []\n",
    "\n",
    "# for each of the trilogy book compute:\n",
    "for LoR_book in LoR_list:\n",
    "    \n",
    "    #Take out the Lord of the Rings selected book from correlation dataframe\n",
    "    dataset_of_other_books = dataset_for_corr.copy(deep=False)\n",
    "    dataset_of_other_books.drop([LoR_book], axis=1, inplace=True)\n",
    "      \n",
    "    # empty lists\n",
    "    book_titles = []\n",
    "    correlations = []\n",
    "    avgrating = []\n",
    "\n",
    "    # TOMAS - TODO - could be vectorized?\n",
    "    # corr computation\n",
    "    for book_title in list(dataset_of_other_books.columns.values):\n",
    "        book_titles.append(book_title)\n",
    "        correlations.append(dataset_for_corr[LoR_book].corr(dataset_of_other_books[book_title]))\n",
    "\n",
    "        # tab = ratings_data_raw[ratings_data_raw['Book-Title']==book_title].groupby(ratings_data_raw['Book-Title']).mean()\n",
    "        # avgrating.append(tab['Book-Rating'].min())\n",
    "        # TOMAS - same thing\n",
    "        book_avg = ratings_data_raw[ratings_data_raw['Book-Title']==book_title]['Book-Rating'].mean()\n",
    "        avgrating.append(book_avg)\n",
    "\n",
    "    # final dataframe of all correlation of each book   \n",
    "    corr_fellowship = pd.DataFrame(list(zip(book_titles, correlations, avgrating)), columns=['book', 'corr', 'avg_rating'])\n",
    "    corr_fellowship.head()\n",
    "\n",
    "    # top 10 books with highest corr\n",
    "    result_list.append(corr_fellowship.sort_values('corr', ascending = False).head(10))\n",
    "    \n",
    "    # worst 10 books\n",
    "    worst_list.append(corr_fellowship.sort_values('corr', ascending = False).tail(10))\n",
    "    \n",
    "print(\"Correlation for book:\", LoR_list[0])\n",
    "avg_lor_rating = ratings_data_raw[ratings_data_raw['Book-Title']==LOR_PART_ONE_TITLE].groupby(ratings_data_raw['Book-Title']).mean()\n",
    "print(f\"Average rating of LOR: {avg_lor_rating}\")\n",
    "rslt = result_list[0]"
   ]
  },
  {
   "cell_type": "code",
   "execution_count": 25,
   "metadata": {},
   "outputs": [
    {
     "data": {
      "text/plain": [
       "[                                                 book      corr  avg_rating\n",
       " 33                                           stardust  0.909450    7.500000\n",
       " 38  the drawing of the three (the dark tower, book 2)  0.907758    8.000000\n",
       " 53                              the phantom tollbooth  0.896262    8.500000\n",
       " 24                                                 it  0.887229    8.333333\n",
       " 66                                      the testament  0.852803    8.000000\n",
       " 4                                   a wrinkle in time  0.848478    8.357143\n",
       " 9       ender's game (ender wiggins saga (paperback))  0.836660    9.307692\n",
       " 29                                       pet sematary  0.830264    7.636364\n",
       " 47                the hobbit: or there and back again  0.820499    8.800000\n",
       " 40                                           the gift  0.808511    7.750000]"
      ]
     },
     "execution_count": 25,
     "metadata": {},
     "output_type": "execute_result"
    }
   ],
   "source": [
    "result_list"
   ]
  },
  {
   "cell_type": "markdown",
   "metadata": {},
   "source": [
    "# Vectorization"
   ]
  },
  {
   "cell_type": "markdown",
   "metadata": {},
   "source": [
    "### Partially vectorized version of computing correlation+avg_rating matrix"
   ]
  },
  {
   "cell_type": "code",
   "execution_count": 98,
   "metadata": {},
   "outputs": [
    {
     "name": "stdout",
     "output_type": "stream",
     "text": [
      "Correlation for book: the fellowship of the ring (the lord of the rings, part 1)\n",
      "Average rating of LOR:                                                           User-ID  Book-Rating\n",
      "Book-Title                                                                    \n",
      "the fellowship of the ring (the lord of the rin...  143720.521951     8.882927\n"
     ]
    }
   ],
   "source": [
    "LoR_list = [LOR_PART_ONE_TITLE]\n",
    "\n",
    "result_list = []\n",
    "worst_list = []\n",
    "\n",
    "# for each of the trilogy book compute:\n",
    "for LoR_book in LoR_list:\n",
    "    \n",
    "    # take out the Lord of the Rings selected book from correlation dataframe\n",
    "    dataset_of_other_books = dataset_for_corr.copy(deep=False)\n",
    "    dataset_of_other_books.drop([LoR_book], axis=1, inplace=True)\n",
    "\n",
    "    titles = dataset_of_other_books.columns.values\n",
    "    correlations = dataset_of_other_books.corrwith(dataset_for_corr[LoR_book])\n",
    "    avg_ratings = ratings_data_raw.groupby('Book-Title')['Book-Rating'].mean().drop(LoR_book)\n",
    "\n",
    "    corr_fellowship = pd.DataFrame({'book': titles, 'corr': correlations, 'avg_rating': avg_ratings}).reset_index(drop=True)\n",
    "\n",
    "    # TOMAS - In case of multiple LoR_books, we might receive duplicates. Also, I am not sure about the exact specification,\n",
    "    #         but returning +10 books per each LoR_book seems weird. Maybe it should be a fixed amount of top books?\n",
    "    #         We could join the results, average the duplicate book reccomendations corr coefs, sort, and return top-k.\n",
    "    \n",
    "    # top 10 books with highest corr\n",
    "    result_list.append(corr_fellowship.sort_values('corr', ascending = False).head(10))\n",
    "\n",
    "    # worst 10 books\n",
    "    worst_list.append(corr_fellowship.sort_values('corr', ascending = False).tail(10))\n",
    "\n",
    "print(\"Correlation for book:\", LoR_list[0])\n",
    "avg_lor_rating = ratings_data_raw[ratings_data_raw['Book-Title']==LOR_PART_ONE_TITLE].groupby(ratings_data_raw['Book-Title']).mean()\n",
    "print(f\"Average rating of LOR: {avg_lor_rating}\")\n",
    "rslt = result_list[0]"
   ]
  },
  {
   "cell_type": "code",
   "execution_count": 100,
   "metadata": {},
   "outputs": [
    {
     "data": {
      "text/plain": [
       "[                                                 book      corr  avg_rating\n",
       " 33                                           stardust  0.909450    7.500000\n",
       " 38  the drawing of the three (the dark tower, book 2)  0.907758    8.000000\n",
       " 53                              the phantom tollbooth  0.896262    8.500000\n",
       " 24                                                 it  0.887229    8.333333\n",
       " 66                                      the testament  0.852803    8.000000\n",
       " 4                                   a wrinkle in time  0.848478    8.357143\n",
       " 9       ender's game (ender wiggins saga (paperback))  0.836660    9.307692\n",
       " 29                                       pet sematary  0.830264    7.636364\n",
       " 47                the hobbit: or there and back again  0.820499    8.800000\n",
       " 40                                           the gift  0.808511    7.750000]"
      ]
     },
     "execution_count": 100,
     "metadata": {},
     "output_type": "execute_result"
    }
   ],
   "source": [
    "result_list"
   ]
  }
 ],
 "metadata": {
  "kernelspec": {
   "display_name": "Python 3.9.12 64-bit",
   "language": "python",
   "name": "python3"
  },
  "language_info": {
   "codemirror_mode": {
    "name": "ipython",
    "version": 3
   },
   "file_extension": ".py",
   "mimetype": "text/x-python",
   "name": "python",
   "nbconvert_exporter": "python",
   "pygments_lexer": "ipython3",
   "version": "3.9.12"
  },
  "orig_nbformat": 4,
  "vscode": {
   "interpreter": {
    "hash": "aee8b7b246df8f9039afb4144a1f6fd8d2ca17a180786b69acc140d282b71a49"
   }
  }
 },
 "nbformat": 4,
 "nbformat_minor": 2
}
